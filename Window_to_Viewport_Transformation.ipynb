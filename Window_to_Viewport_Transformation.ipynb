{
  "nbformat": 4,
  "nbformat_minor": 0,
  "metadata": {
    "colab": {
      "name": "Window to Viewport Transformation",
      "provenance": [],
      "collapsed_sections": [],
      "include_colab_link": true
    },
    "kernelspec": {
      "name": "python3",
      "display_name": "Python 3"
    },
    "language_info": {
      "name": "python"
    }
  },
  "cells": [
    {
      "cell_type": "markdown",
      "metadata": {
        "id": "view-in-github",
        "colab_type": "text"
      },
      "source": [
        "<a href=\"https://colab.research.google.com/github/imamfirdaus-if/GrafikaKomputer/blob/main/Window_to_Viewport_Transformation.ipynb\" target=\"_parent\"><img src=\"https://colab.research.google.com/assets/colab-badge.svg\" alt=\"Open In Colab\"/></a>"
      ]
    },
    {
      "cell_type": "markdown",
      "source": [
        "**Window to Viewport Transformation**\n"
      ],
      "metadata": {
        "id": "GaP5lnJ5MpIm"
      }
    },
    {
      "cell_type": "markdown",
      "source": [
        "**Perhitungan Matematik untuk Transformasi Window ke Viewport**"
      ],
      "metadata": {
        "id": "3xFlUmVTdCYh"
      }
    },
    {
      "cell_type": "code",
      "execution_count": null,
      "metadata": {
        "colab": {
          "base_uri": "https://localhost:8080/"
        },
        "id": "h2VX1LPMMLEq",
        "outputId": "fd58a16c-8343-453a-b18a-01f508bd3f45"
      },
      "outputs": [
        {
          "output_type": "stream",
          "name": "stdout",
          "text": [
            "Point on viewport dari hasil perhitungan tersebut adalah:( 35 , 60 )\n"
          ]
        }
      ],
      "source": [
        "# Fungsi untuk transformasi window ke viewport\n",
        "def WindowtoViewport(x_w, y_w, x_wmax, y_wmax,\n",
        "                       x_wmin, y_wmin, x_vmax,\n",
        "                       y_vmax, x_vmin, y_vmin):\n",
        "                            \n",
        "    #point on viewport\n",
        "    #Menghitung sx\n",
        "    sx = (x_vmax - x_vmin) / (x_wmax - x_wmin)\n",
        "\n",
        "    #Menghitung sy\n",
        "    sy = (y_vmax - y_vmin) / (y_wmax - y_wmin)\n",
        " \n",
        "    #Menghitung point on viewport\n",
        "    x_v = x_vmin + ((x_w - x_wmin) * sx)\n",
        "    y_v = y_vmin + ((y_w - y_wmin) * sy)\n",
        " \n",
        "    print(\"Point on viewport dari hasil perhitungan tersebut adalah:(\", int(x_v),\n",
        "                                \",\", int(y_v), \")\")\n",
        " \n",
        "if __name__ == '__main__':\n",
        "     \n",
        "    #nilai batas untuk window\n",
        "    x_wmax = 80\n",
        "    y_wmax = 80\n",
        "    x_wmin = 20\n",
        "    y_wmin = 40\n",
        " \n",
        "    #nilai batas untuk viewport\n",
        "    x_vmax = 60\n",
        "    y_vmax = 60\n",
        "    x_vmin = 30\n",
        "    y_vmin = 40\n",
        " \n",
        "    #point on window\n",
        "    x_w = 30\n",
        "    y_w = 80\n",
        " \n",
        "    WindowtoViewport(700, 500, 1000, 800, 0, 0, 600, 800, 0, 0)"
      ]
    },
    {
      "cell_type": "markdown",
      "source": [
        "**Visualisasi transformasi window ke viewport**"
      ],
      "metadata": {
        "id": "uBE0IumLdbSM"
      }
    },
    {
      "cell_type": "code",
      "source": [
        "import matplotlib.pyplot as plt\n",
        "\n",
        "x1 = [20, 20]\n",
        "y1 = [40, 80]\n",
        "x2 = [20, 80]\n",
        "y2 = [80, 80]\n",
        "x3 = [20, 80]\n",
        "y3 = [40, 40]\n",
        "x4 = [80, 80]\n",
        "y4 = [40, 80]\n",
        "plt.plot(x1, y1, label = 'Window', color = 'blue')\n",
        "plt.plot(x2, y2, color = 'blue')\n",
        "plt.plot(x3, y3, color = 'blue')\n",
        "plt.plot(x4, y4, color = 'blue')\n",
        "\n",
        "x5 = [30, 30]\n",
        "y5 = [40, 60]\n",
        "x6 = [30, 60]\n",
        "y6 = [60, 60]\n",
        "x7 = [60, 60]\n",
        "y7 = [40, 60]\n",
        "x8 = [30, 60]\n",
        "y8 = [40, 40]\n",
        "plt.axis([0, 100, 0, 100])\n",
        "plt.plot(x5, y5, label = 'Viewport' , color = 'red')\n",
        "plt.plot(x6, y6, color = 'red')\n",
        "plt.plot(x7, y7, color = 'red')\n",
        "plt.plot(x8, y8, color = 'red')\n",
        "plt.legend()\n",
        "plt.title('Visualisasi transformasi window ke viewport')\n",
        "plt.plot"
      ],
      "metadata": {
        "colab": {
          "base_uri": "https://localhost:8080/",
          "height": 298
        },
        "id": "VC02tsHReeZx",
        "outputId": "6f577d67-4a31-4188-e816-72c6b8cae3dd"
      },
      "execution_count": 94,
      "outputs": [
        {
          "output_type": "execute_result",
          "data": {
            "text/plain": [
              "<function matplotlib.pyplot.plot>"
            ]
          },
          "metadata": {},
          "execution_count": 94
        },
        {
          "output_type": "display_data",
          "data": {
            "text/plain": [
              "<Figure size 432x288 with 1 Axes>"
            ],
            "image/png": "[encoded data removed]"
          },
          "metadata": {
            "needs_background": "light"
          }
        }
      ]
    },
    {
      "cell_type": "code",
      "source": [
        "#Visualisasi window\n",
        "\n",
        "x1 = [20, 20]\n",
        "y1 = [40, 80]\n",
        "x2 = [20, 80]\n",
        "y2 = [80, 80]\n",
        "x3 = [20, 80]\n",
        "y3 = [40, 40]\n",
        "x4 = [80, 80]\n",
        "y4 = [40, 80]\n",
        "plt.axis([0, 100, 0, 100])\n",
        "plt.plot(x1, y1, label = 'Window', color = 'blue')\n",
        "plt.plot(x2, y2, color = 'blue')\n",
        "plt.plot(x3, y3, color = 'blue')\n",
        "plt.plot(x4, y4, color = 'blue')\n",
        "plt.title('Visualisasi window')\n",
        "plt.legend()\n",
        "plt.show()"
      ],
      "metadata": {
        "colab": {
          "base_uri": "https://localhost:8080/",
          "height": 281
        },
        "id": "zcQtMD1GcEdY",
        "outputId": "afa1b22c-300e-4b82-f0e2-7426f1e8cd3a"
      },
      "execution_count": 91,
      "outputs": [
        {
          "output_type": "display_data",
          "data": {
            "text/plain": [
              "<Figure size 432x288 with 1 Axes>"
            ],
            "image/png": "[encoded data removed]"
          },
          "metadata": {
            "needs_background": "light"
          }
        }
      ]
    },
    {
      "cell_type": "code",
      "source": [
        "#Visualisasi viewport\n",
        "\n",
        "x5 = [30, 30]\n",
        "y5 = [40, 60]\n",
        "x6 = [30, 60]\n",
        "y6 = [60, 60]\n",
        "x7 = [60, 60]\n",
        "y7 = [40, 60]\n",
        "x8 = [30, 60]\n",
        "y8 = [40, 40]\n",
        "\n",
        "plt.axis([0, 80, 0, 80])\n",
        "plt.plot(x5, y5, label = 'Viewport' , color = 'red')\n",
        "plt.plot(x6, y6, color = 'red')\n",
        "plt.plot(x7, y7, color = 'red')\n",
        "plt.plot(x8, y8, color = 'red')\n",
        "plt.title('Visualisasi viewport')\n",
        "plt.legend()\n",
        "plt.plot()"
      ],
      "metadata": {
        "colab": {
          "base_uri": "https://localhost:8080/",
          "height": 298
        },
        "id": "vfokKUgNb-4d",
        "outputId": "8ec5f266-077c-46ef-9d38-8c17bb2b63ca"
      },
      "execution_count": 93,
      "outputs": [
        {
          "output_type": "execute_result",
          "data": {
            "text/plain": [
              "[]"
            ]
          },
          "metadata": {},
          "execution_count": 93
        },
        {
          "output_type": "display_data",
          "data": {
            "text/plain": [
              "<Figure size 432x288 with 1 Axes>"
            ],
            "image/png": "[encoded data removed]"
          },
          "metadata": {
            "needs_background": "light"
          }
        }
      ]
    }
  ]
}