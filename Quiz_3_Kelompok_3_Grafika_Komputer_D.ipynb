{
  "nbformat": 4,
  "nbformat_minor": 0,
  "metadata": {
    "colab": {
      "name": "Quiz 3 Kelompok 3 Grafika Komputer D",
      "provenance": [],
      "collapsed_sections": [],
      "include_colab_link": true
    },
    "kernelspec": {
      "name": "python3",
      "display_name": "Python 3"
    },
    "language_info": {
      "name": "python"
    }
  },
  "cells": [
    {
      "cell_type": "markdown",
      "metadata": {
        "id": "view-in-github",
        "colab_type": "text"
      },
      "source": [
        "<a href=\"https://colab.research.google.com/github/imamfirdaus-if/GrafikaKomputer/blob/main/Quiz_3_Kelompok_3_Grafika_Komputer_D.ipynb\" target=\"_parent\"><img src=\"https://colab.research.google.com/assets/colab-badge.svg\" alt=\"Open In Colab\"/></a>"
      ]
    },
    {
      "cell_type": "code",
      "execution_count": null,
      "metadata": {
        "id": "cdBa9qAss3U7",
        "colab": {
          "base_uri": "https://localhost:8080/"
        },
        "outputId": "b9c37acc-b073-4545-e196-e35c32bb4b15"
      },
      "outputs": [
        {
          "output_type": "stream",
          "name": "stdout",
          "text": [
            "Nilai radius: 10\n",
            "Nilai x     : 0\n",
            "Nilai y     : 10\n",
            "Nilai p0    : -9\n"
          ]
        }
      ],
      "source": [
        "0# Inisialisasi nilai\n",
        "r = int(input('Nilai radius: '))\n",
        "x = int(input('Nilai x     : '))\n",
        "y = r\n",
        "p = 1 - r\n",
        "print('Nilai y     :', str(y))\n",
        "print('Nilai p0    :', str(p))"
      ]
    },
    {
      "cell_type": "code",
      "source": [
        "# Inisialisasi array untuk menyimpan nilai-nilai pk, xk, dan yk\n",
        "listP = []\n",
        "listX = []\n",
        "listY = []\n",
        "\n",
        "# Masukkan nilai awal pk ke dalam listP\n",
        "listP.append(p)"
      ],
      "metadata": {
        "id": "N--iHR5exHQg"
      },
      "execution_count": null,
      "outputs": []
    },
    {
      "cell_type": "code",
      "source": [
        "# KUADRAN I\n",
        "# Pengulangan perhitungan koordinat selanjutnya hingga x == y\n",
        "while(x != y):\n",
        "  if (p < 0):\n",
        "      x = x + 1\n",
        "      y = y\n",
        "      p = p + (2 * x) + 1\n",
        "      listP.append(p)\n",
        "      listX.append(x)\n",
        "      listY.append(y)\n",
        "  else:\n",
        "      x = x + 1\n",
        "      y = y - 1\n",
        "      p = p + 2 * (x - y) + 1\n",
        "      if (x != y): \n",
        "        listP.append(p)\n",
        "      listX.append(x)\n",
        "      listY.append(y)\n",
        "\n",
        "# Output\n",
        "print('Kuadran I')\n",
        "print('pk:', listP)\n",
        "print('xk:', listX)\n",
        "print('yk:', listY)"
      ],
      "metadata": {
        "id": "24CyP6OoxJKT",
        "colab": {
          "base_uri": "https://localhost:8080/"
        },
        "outputId": "2bea50fc-4f5c-4e69-f1b5-610b0c61c04c"
      },
      "execution_count": null,
      "outputs": [
        {
          "output_type": "stream",
          "name": "stdout",
          "text": [
            "Kuadran I\n",
            "pk: [-9, -6, -1, 6, -3, 8, 5]\n",
            "xk: [1, 2, 3, 4, 5, 6, 7]\n",
            "yk: [10, 10, 10, 9, 9, 8, 7]\n"
          ]
        }
      ]
    },
    {
      "cell_type": "code",
      "source": [
        "#KUADRAN I\n",
        "import numpy as np\n",
        "import numpy.random as nprnd\n",
        "import matplotlib.pyplot as plt\n",
        "\n",
        "plt.scatter(listX, listY)\n",
        "plt.scatter(listY, listX)\n",
        "\n",
        "#KUADRAN II\n",
        "listX2 = []\n",
        "listY2 = []\n",
        "\n",
        "listY2 = listY\n",
        "\n",
        "for X in listX:\n",
        "    X= 0-X\n",
        "    listX2.append(X)\n",
        "\n",
        "print (listX2)\n",
        "print (listY2)\n",
        "plt.scatter(listX2, listY2)\n",
        "plt.scatter(listY2, listX2)\n",
        "\n",
        "#KUADRANIII\n",
        "listX3 = []\n",
        "listY3 = []\n",
        "for Y in listY:\n",
        "    Y= 0-Y\n",
        "    listY3.append(Y)\n",
        "\n",
        "for X in listX:\n",
        "    X= 0-X\n",
        "    listX3.append(X)\n",
        "\n",
        "print (listX3)\n",
        "print (listY3)\n",
        "plt.scatter(listX3, listY3)\n",
        "plt.scatter(listY3, listX3)\n",
        "\n",
        "#KUADRAN IV\n",
        "listX4 = []\n",
        "listY4 = []\n",
        "for Y in listY:\n",
        "    Y= 0-Y\n",
        "    listY4.append(Y)\n",
        "\n",
        "listX4 = listX\n",
        "\n",
        "print (listX4)\n",
        "print (listY4)\n",
        "plt.scatter(listX4, listY4)\n",
        "plt.scatter(listY4, listX4)\n",
        "\n",
        "plt.show()"
      ],
      "metadata": {
        "colab": {
          "base_uri": "https://localhost:8080/",
          "height": 369
        },
        "id": "QFkznWf72tAG",
        "outputId": "fc8e8f0f-8c14-4227-a0c0-40d97075a950"
      },
      "execution_count": null,
      "outputs": [
        {
          "output_type": "stream",
          "name": "stdout",
          "text": [
            "[-1, -2, -3, -4, -5, -6, -7]\n",
            "[10, 10, 10, 9, 9, 8, 7]\n",
            "[-1, -2, -3, -4, -5, -6, -7]\n",
            "[-10, -10, -10, -9, -9, -8, -7]\n",
            "[1, 2, 3, 4, 5, 6, 7]\n",
            "[-10, -10, -10, -9, -9, -8, -7]\n"
          ]
        },
        {
          "output_type": "display_data",
          "data": {
            "text/plain": [
              "<Figure size 432x288 with 1 Axes>"
            ],
            "image/png": "[encoded data removed]"
          },
          "metadata": {
            "needs_background": "light"
          }
        }
      ]
    }
  ]
}