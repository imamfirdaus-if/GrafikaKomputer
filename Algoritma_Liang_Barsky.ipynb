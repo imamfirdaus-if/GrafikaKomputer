{
  "nbformat": 4,
  "nbformat_minor": 0,
  "metadata": {
    "colab": {
      "name": "Algoritma Liang Barsky.ipynb",
      "provenance": [],
      "authorship_tag": "ABX9TyPq20dSsyxzmLS7Drw+T+0L",
      "include_colab_link": true
    },
    "kernelspec": {
      "name": "python3",
      "display_name": "Python 3"
    },
    "language_info": {
      "name": "python"
    }
  },
  "cells": [
    {
      "cell_type": "markdown",
      "metadata": {
        "id": "view-in-github",
        "colab_type": "text"
      },
      "source": [
        "<a href=\"https://colab.research.google.com/github/imamfirdaus-if/GrafikaKomputer/blob/main/Algoritma_Liang_Barsky.ipynb\" target=\"_parent\"><img src=\"https://colab.research.google.com/assets/colab-badge.svg\" alt=\"Open In Colab\"/></a>"
      ]
    },
    {
      "cell_type": "code",
      "source": [
        "def liangBarsky(x1,y1,x2,y2,x_min,y_min,x_max,y_max):\n",
        "    dx = x2-x1\n",
        "    dy = y2-y1\n",
        "    p1 = -dx\n",
        "    p2 = dx\n",
        "    p3 = -dy\n",
        "    p4 = dy\n",
        "\n",
        "    q1 = x1 - x_min\n",
        "    q2 = x_max - x1\n",
        "    q3 = y1 - y_min\n",
        "    q4 = y_max - y1\n",
        "\n",
        "    print(\"p1 =  %.2f, q1 =  %.2f\"% (p1,q1))\n",
        "    print(\"p2 =  %.2f, q2 =  %.2f\"% (p2,q2))\n",
        "    print(\"p3 =  %.2f, q3 =  %.2f\"% (p3,q3))\n",
        "    print(\"p4 =  %.2f, q4 =  %.2f\"% (p4,q4))\n",
        "    print(\"\\n\")\n",
        "\n",
        "    t1 = q1/p1\n",
        "    t2 = q2/p2\n",
        "    t3 = q3/p3\n",
        "    t4 = q4/p4\n",
        "\n",
        "    print(\"t1 = %.2f\"% t1)\n",
        "    print(\"t2 = %.2f\"% t2)\n",
        "    print(\"t3 = %.2f\"% t3)\n",
        "    print(\"t4 = %.2f\"% t4)\n",
        "    print(\"\\n\")\n",
        "\n",
        "    t_max = 0\n",
        "    t_min = 1\n",
        "\n",
        "    if(p1 == 0 or p2 == 0 or p3 == 0 or p4 == 0):\n",
        "        print(\"line is parallel\")\n",
        "        print(\"\\n\")\n",
        "    \n",
        "    if(p1 != 0):\n",
        "        if(p1 < 0):\n",
        "            t_max = max(t_max,t1)\n",
        "        elif(p1 > 0):\n",
        "            t_min = min(t_min,t1)\n",
        "\n",
        "    if(p2 != 0):\n",
        "        if(p2 < 0):\n",
        "            t_max = max(t_max,t2)\n",
        "        elif(p2 > 0):\n",
        "            t_min = min(t_min,t2)  \n",
        "\n",
        "    if(p3 != 0):\n",
        "        if(p3 < 0):\n",
        "            t_max = max(t_max,t3)\n",
        "        elif(p3 > 0):\n",
        "            t_min = min(t_min,t3)   \n",
        "\n",
        "    if(p4 != 0):\n",
        "        if(p4 < 0):\n",
        "            t_max = max(t_max,t4)\n",
        "        elif(p4 > 0):\n",
        "            t_min = min(t_min,t4)      \n",
        "    \n",
        "    if(t_max > t_min):\n",
        "        print(\"Garis tidak dapat digambarkan karena berada di luar\")\n",
        "        print(\"\\n\")\n",
        "    \n",
        "    if(t_max < t_min):\n",
        "        x_1 = x1 + (t_max * dx)\n",
        "        y_1 = y1 + (t_max * dy)\n",
        "        x_2 = x1 + (t_min * dx)\n",
        "        y_2 = y1 + (t_min * dy)\n",
        "\n",
        "    print(\"Garis berpindah dari titik (%.2f, %.2f) ke (%.2f, %.2f)\"% (x_1,y_1,x_2,y_2))\n",
        "\n",
        "print(\"Masukkan area clipping\")\n",
        "x_min = int(input(\"x_min: \"))\n",
        "y_min = int(input(\"y_min: \"))\n",
        "x_max = int(input(\"x_max: \"))\n",
        "y_max = int(input(\"y_max: \"))\n",
        "print(\"\\n\")\n",
        "\n",
        "print(\"Masukkan koordinat garis\")\n",
        "x1 = int(input(\"x1: \"))\n",
        "y1 = int(input(\"y1: \"))\n",
        "x2 = int(input(\"x2: \"))\n",
        "y2 = int(input(\"y2: \"))\n",
        "print(\"\\n\")\n",
        "\n",
        "liangBarsky(x1,y1,x2,y2,x_min,y_min,x_max,y_max)"
      ],
      "metadata": {
        "colab": {
          "base_uri": "https://localhost:8080/"
        },
        "id": "DBP8QYtDp7k_",
        "outputId": "3d31816f-2a20-4489-b401-b764501acd65"
      },
      "execution_count": 1,
      "outputs": [
        {
          "output_type": "stream",
          "name": "stdout",
          "text": [
            "Masukkan area clipping\n",
            "x_min: 0\n",
            "y_min: 0\n",
            "x_max: 1\n",
            "y_max: 1\n",
            "\n",
            "\n",
            "Masukkan koordinat garis\n",
            "x1: -1\n",
            "y1: -2\n",
            "x2: 2\n",
            "y2: 4\n",
            "\n",
            "\n",
            "p1 =  -3.00, q1 =  -1.00\n",
            "p2 =  3.00, q2 =  2.00\n",
            "p3 =  -6.00, q3 =  -2.00\n",
            "p4 =  6.00, q4 =  3.00\n",
            "\n",
            "\n",
            "t1 = 0.33\n",
            "t2 = 0.67\n",
            "t3 = 0.33\n",
            "t4 = 0.50\n",
            "\n",
            "\n",
            "Garis berpindah dari titik (0.00, 0.00) ke (0.50, 1.00)\n"
          ]
        }
      ]
    }
  ]
}