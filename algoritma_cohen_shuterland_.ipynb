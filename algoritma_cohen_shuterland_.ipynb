{
  "nbformat": 4,
  "nbformat_minor": 0,
  "metadata": {
    "colab": {
      "name": "algoritma cohen-shuterland .ipynb",
      "provenance": [],
      "authorship_tag": "ABX9TyNlB9yspnsUSZc2sGDjR9wV",
      "include_colab_link": true
    },
    "kernelspec": {
      "name": "python3",
      "display_name": "Python 3"
    },
    "language_info": {
      "name": "python"
    }
  },
  "cells": [
    {
      "cell_type": "markdown",
      "metadata": {
        "id": "view-in-github",
        "colab_type": "text"
      },
      "source": [
        "<a href=\"https://colab.research.google.com/github/imamfirdaus-if/GrafikaKomputer/blob/main/algoritma_cohen_shuterland_.ipynb\" target=\"_parent\"><img src=\"https://colab.research.google.com/assets/colab-badge.svg\" alt=\"Open In Colab\"/></a>"
      ]
    },
    {
      "cell_type": "code",
      "execution_count": 14,
      "metadata": {
        "colab": {
          "base_uri": "https://localhost:8080/"
        },
        "id": "KAFBtkedPPGN",
        "outputId": "942dbfcc-2355-4900-b8c8-26265523812a"
      },
      "outputs": [
        {
          "name": "stdout",
          "output_type": "stream",
          "text": [
            "Point1 x1: 100\n",
            "point1 y1: 100\n",
            "Point2 x2: 700\n",
            "Point2 y2: 700\n"
          ]
        }
      ],
      "source": [
        "def CohenSutherlandClippingAlgorithm(x1, y1, x2, y2):\n",
        "    code1 = computeCode(x1, y1)\n",
        "    code2 = computeCode(x2, y2)\n",
        "    accept = False\n",
        "    while True:\n",
        "        if code1 == 0 and code2 == 0:\n",
        "            accept = True\n",
        "            break\n",
        "        elif (code1 & code2) != 0:\n",
        "            break\n",
        "        else:\n",
        "            x = 1.0\n",
        "            y = 1.0\n",
        "            if code1 != 0:\n",
        "                code_out = code1\n",
        "            else:\n",
        "                code_out = code2\n",
        "            if code_out & 8:\n",
        "                x = x1 + (x2 - x1) * (p1[1] - y1) / (y2 - y1)\n",
        "                y = p1[1]\n",
        "            elif code_out & 4:\n",
        "                x = x1 + (x2 - x1) * (p4[1] - y1) / (y2 - y1)\n",
        "                y = p4[1]\n",
        "            elif code_out & 2:\n",
        "                y = y1 + (y2 - y1) * (p1[0] - x1) / (x2 - x1)\n",
        "                x = p1[0]\n",
        "            elif code_out & 1:\n",
        "                y = y1 + (y2 - y1) * (p4[0] - x1) / (x2 - x1)\n",
        "                x = p4[0]\n",
        "            if code_out == code1:\n",
        "                x1 = x\n",
        "                y1 = y\n",
        "                code1 = computeCode(x1, y1)\n",
        "            else:\n",
        "                x2 = x\n",
        "                y2 = y\n",
        "                code2 = computeCode(x2, y2)\n",
        "\n",
        "    if accept:\n",
        "        draw2.line((x1, y1, x2, y2), fill=(0, 0, 255))\n",
        "\n",
        "    else:\n",
        "        print(\"Garis ini tidak dapat ditarik karena di luar area\")\n",
        "\n",
        "#Menggambarkan inputnya dan memotongnya menggunakan algoritma Cohen sutherland\n",
        "def clip(x1, y1, x2, y2):\n",
        "    draw.line((x1, y1, x2, y2), fill=(0, 255, 0))\n",
        "    CohenSutherlandClippingAlgorithm(x1, y1, x2, y2)\n",
        "\n",
        "\n",
        "if __name__ == '__main__':\n",
        "    #point 1\n",
        "    x1 = int(input(\"Point1 x1: \"))\n",
        "    y1 = int(input(\"point1 y1: \"))\n",
        "    # point 2\n",
        "    x2 = int(input(\"Point2 x2: \"))\n",
        "    y2 = int(input(\"Point2 y2: \"))\n",
        "\n",
        "    #Memeriksa apakah garis perlu dipotong atau tidak\n",
        "    clip(x1, y1, x2, y2)\n",
        "\n",
        "    #Menyimpan gambar\n",
        "    im.show()\n",
        "    im.save('Garis didalam windows.png')\n",
        "    im1.show()\n",
        "    im1.save('Garis hasil clipping.png')"
      ]
    }
  ]
}