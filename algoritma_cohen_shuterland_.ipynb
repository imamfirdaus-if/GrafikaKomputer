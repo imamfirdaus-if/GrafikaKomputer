{
  "nbformat": 4,
  "nbformat_minor": 0,
  "metadata": {
    "colab": {
      "name": "algoritma cohen-shuterland .ipynb",
      "provenance": [],
      "collapsed_sections": [],
      "authorship_tag": "ABX9TyP41cF6XOJpxwjSwcdYEzDe",
      "include_colab_link": true
    },
    "kernelspec": {
      "name": "python3",
      "display_name": "Python 3"
    },
    "language_info": {
      "name": "python"
    }
  },
  "cells": [
    {
      "cell_type": "markdown",
      "metadata": {
        "id": "view-in-github",
        "colab_type": "text"
      },
      "source": [
        "<a href=\"https://colab.research.google.com/github/imamfirdaus-if/GrafikaKomputer/blob/main/algoritma_cohen_shuterland_.ipynb\" target=\"_parent\"><img src=\"https://colab.research.google.com/assets/colab-badge.svg\" alt=\"Open In Colab\"/></a>"
      ]
    },
    {
      "cell_type": "markdown",
      "source": [
        "**Line Clipping Using Sutherland-Hodgman Algorithm**"
      ],
      "metadata": {
        "id": "W8E0TOrgFwiZ"
      }
    },
    {
      "cell_type": "code",
      "execution_count": null,
      "metadata": {
        "colab": {
          "base_uri": "https://localhost:8080/"
        },
        "id": "KAFBtkedPPGN",
        "outputId": "6179a468-00ed-4fb6-d818-f80f72080a83"
      },
      "outputs": [
        {
          "name": "stdout",
          "output_type": "stream",
          "text": [
            "Point1 x1: 100\n",
            "point1 y1: 100\n",
            "Point2 x2: 600\n",
            "Point2 y2: 600\n"
          ]
        }
      ],
      "source": [
        "#Import Library\n",
        "import PIL.ImageDraw as ID, PIL.Image as Image\n",
        "\n",
        "#Gambar pertama untuk menunjukkan garis dengan batas persegi panjang\n",
        "pict = Image.new(\"RGB\", (640, 480))\n",
        "\n",
        "#Gambar kedua untuk menampilkan garis terpotong\n",
        "pict_clip = Image.new(\"RGB\", (640, 480))\n",
        "\n",
        "#Mennggambarkan gambar\n",
        "draw = ID.Draw(pict)\n",
        "draw2 = ID.Draw(pict_clip)\n",
        "\n",
        "#polygon(x1, y1, x2, y2, x3, y3, x4, y4)\n",
        "draw.polygon((200, 200, 400, 200, 400, 300, 200, 300), outline=255)\n",
        "draw2.polygon((200, 200, 400, 200, 400, 300, 200, 300), outline=255)\n",
        "\n",
        "#titik p1 dan p4 akan memeriksa garis imbang, p1 dan p4 adalah titik sudut persegi panjang\n",
        "p1 = (400.0, 300.0)\n",
        "p4 = (200.0, 200.0)\n",
        "\n",
        "\n",
        "def computeCode(x, y):\n",
        "    code = 0\n",
        "    if x < p4[0]:\n",
        "        code = code | 1\n",
        "    elif x > p1[0]:\n",
        "        code = code | 2\n",
        "    if y < p4[1]:\n",
        "        code = code | 4\n",
        "    elif y > p1[1]:\n",
        "        code = code | 8\n",
        "    return code\n",
        "\n",
        "\n",
        "def CohenSutherlandClippingAlgorithm(x1, y1, x2, y2):\n",
        "    code1 = computeCode(x1, y1)\n",
        "    code2 = computeCode(x2, y2)\n",
        "    accept = False\n",
        "    while True:\n",
        "        if code1 == 0 and code2 == 0:\n",
        "            accept = True\n",
        "            break\n",
        "        elif (code1 & code2) != 0:\n",
        "            break\n",
        "        else:\n",
        "            x = 1.0\n",
        "            y = 1.0\n",
        "            if code1 != 0:\n",
        "                code_out = code1\n",
        "            else:\n",
        "                code_out = code2\n",
        "            if code_out & 8:\n",
        "                x = x1 + (x2 - x1) * (p1[1] - y1) / (y2 - y1)\n",
        "                y = p1[1]\n",
        "            elif code_out & 4:\n",
        "                x = x1 + (x2 - x1) * (p4[1] - y1) / (y2 - y1)\n",
        "                y = p4[1]\n",
        "            elif code_out & 2:\n",
        "                y = y1 + (y2 - y1) * (p1[0] - x1) / (x2 - x1)\n",
        "                x = p1[0]\n",
        "            elif code_out & 1:\n",
        "                y = y1 + (y2 - y1) * (p4[0] - x1) / (x2 - x1)\n",
        "                x = p4[0]\n",
        "            if code_out == code1:\n",
        "                x1 = x\n",
        "                y1 = y\n",
        "                code1 = computeCode(x1, y1)\n",
        "            else:\n",
        "                x2 = x\n",
        "                y2 = y\n",
        "                code2 = computeCode(x2, y2)\n",
        "\n",
        "    if accept:\n",
        "        draw2.line((x1, y1, x2, y2), fill=(0, 0, 255))\n",
        "\n",
        "    else:\n",
        "        print(\"This line can not be drawn as outside the area\")\n",
        "\n",
        "#Menggambar dari input dan memotongnya menggunakan algoritma Cohen sutherland\n",
        "def clip(x1, y1, x2, y2):\n",
        "    draw.line((x1, y1, x2, y2), fill=(0, 255, 0))\n",
        "    CohenSutherlandClippingAlgorithm(x1, y1, x2, y2)\n",
        "\n",
        "\n",
        "if __name__ == '__main__':\n",
        "    #Masukkan dua poin untuk menggambar garis\n",
        "\n",
        "    # point 1\n",
        "    x1 = int(input(\"Masukkan x1: \"))\n",
        "    y1 = int(input(\"Masukkan y1: \"))\n",
        "\n",
        "    # point 2\n",
        "    x2 = int(input(\"Masukkan x2: \"))\n",
        "    y2 = int(input(\"Masukkan y2: \"))\n",
        "\n",
        "    #Memeriksa apakah garis perlu dipotong atau tidak\n",
        "    clip(x1, y1, x2, y2)\n",
        "\n",
        "    #Tampilkan gambar dan simpan secara lokal\n",
        "    pict.show()\n",
        "    pict.save('Gambar Asli.png')\n",
        "    pict_clip.show()\n",
        "    pict_clip.save('Gambar Setelah dipotong.png')"
      ]
    }
  ]
}