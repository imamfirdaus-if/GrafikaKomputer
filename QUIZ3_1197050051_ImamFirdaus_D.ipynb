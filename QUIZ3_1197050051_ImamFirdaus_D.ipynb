{
  "nbformat": 4,
  "nbformat_minor": 0,
  "metadata": {
    "colab": {
      "name": "QUIZ3_1197050051_ImamFirdaus_D",
      "provenance": [],
      "authorship_tag": "ABX9TyOil3ai86abVmkH/jZjUPdE",
      "include_colab_link": true
    },
    "kernelspec": {
      "name": "python3",
      "display_name": "Python 3"
    },
    "language_info": {
      "name": "python"
    }
  },
  "cells": [
    {
      "cell_type": "markdown",
      "metadata": {
        "id": "view-in-github",
        "colab_type": "text"
      },
      "source": [
        "<a href=\"https://colab.research.google.com/github/imamfirdaus-if/GrafikaKomputer/blob/main/QUIZ3_1197050051_ImamFirdaus_D.ipynb\" target=\"_parent\"><img src=\"https://colab.research.google.com/assets/colab-badge.svg\" alt=\"Open In Colab\"/></a>"
      ]
    },
    {
      "cell_type": "markdown",
      "source": [
        "**Algoritma Midpoint untuk lingkaran, bentuk suatu lingkaran dengan titik pusat (0,0) dan radius 20, perhitungan berdasarkan pada oktan pada semua kuadran dimana x =0 sampai x =y**\n",
        "\n",
        "*   Nama : Imam Firdaus\n",
        "*   NIM  : 1197050051\n",
        "*   Kelas: D\n",
        "\n"
      ],
      "metadata": {
        "id": "YmgzbCYyZ4XL"
      }
    },
    {
      "cell_type": "code",
      "source": [
        "#Inisialisasi Nilai\n",
        "x = 0\n",
        "r = 20\n",
        "y = r\n",
        "p = 1 - r"
      ],
      "metadata": {
        "id": "LQMHG36taUKA"
      },
      "execution_count": 4,
      "outputs": []
    },
    {
      "cell_type": "code",
      "source": [
        "# Inisialisasi array untuk menyimpan nilai-nilai pk, xk, dan yk\n",
        "listP = []\n",
        "listX = []\n",
        "listY = []"
      ],
      "metadata": {
        "id": "by9ME7BqaYdX"
      },
      "execution_count": 5,
      "outputs": []
    },
    {
      "cell_type": "code",
      "source": [
        "# Masukkan nilai awal pk ke dalam listP\n",
        "listP.append(p)\n",
        "listX.append(x)\n",
        "listY.append(y)\n",
        "\n"
      ],
      "metadata": {
        "id": "3G2ECV0NabZi"
      },
      "execution_count": 6,
      "outputs": []
    },
    {
      "cell_type": "code",
      "execution_count": 8,
      "metadata": {
        "colab": {
          "base_uri": "https://localhost:8080/"
        },
        "id": "pAZVmK9CZPBV",
        "outputId": "00fc5a40-0416-4f68-82b0-d80d67332673"
      },
      "outputs": [
        {
          "output_type": "stream",
          "name": "stdout",
          "text": [
            "[-19, -16, -11, -4, 5, -22, -9, 6, -13, 6, -7, 16, 9, 6, 7]\n",
            "[0, 1, 2, 3, 4, 5, 6, 7, 8, 9, 10, 11, 12, 13, 14]\n",
            "[20, 20, 20, 20, 20, 19, 19, 19, 18, 18, 17, 17, 16, 15, 14]\n"
          ]
        }
      ],
      "source": [
        "# Pengulangan perhitungan koordinat selanjutnya hingga x == y\n",
        "while(x != y):\n",
        "  if (p < 0):\n",
        "      x = x + 1\n",
        "      p = p + (2 * x) + 1\n",
        "      y = y\n",
        "      listP.append(p)\n",
        "      listX.append(x)\n",
        "      listY.append(y)\n",
        "  else:\n",
        "      x = x + 1\n",
        "      y = y - 1\n",
        "      p = p + 2 * (x - y) + 1\n",
        "      listP.append(p)\n",
        "      listX.append(x)\n",
        "      listY.append(y)\n",
        "\n",
        "#Output\n",
        "print(listP)\n",
        "print(listX)\n",
        "print(listY)"
      ]
    },
    {
      "cell_type": "code",
      "source": [
        "#Visualisasi Lingkaran\n",
        "import numpy as np\n",
        "import numpy.random as nprnd\n",
        "import matplotlib.pyplot as plt\n",
        "\n",
        "plt.scatter(listX, listY)\n",
        "plt.scatter(listY, listX)\n",
        "\n",
        "#KUADRAN II\n",
        "listX2 = []\n",
        "listY2 = []\n",
        "\n",
        "listY2 = listY\n",
        "\n",
        "for X in listX:\n",
        "    X= 0-X\n",
        "    listX2.append(X)\n",
        "\n",
        "print (listX2)\n",
        "print (listY2)\n",
        "plt.scatter(listX2, listY2)\n",
        "plt.scatter(listY2, listX2)\n",
        "\n",
        "#KUADRANIII\n",
        "listX3 = []\n",
        "listY3 = []\n",
        "for Y in listY:\n",
        "    Y= 0-Y\n",
        "    listY3.append(Y)\n",
        "\n",
        "for X in listX:\n",
        "    X= 0-X\n",
        "    listX3.append(X)\n",
        "\n",
        "print (listX3)\n",
        "print (listY3)\n",
        "plt.scatter(listX3, listY3)\n",
        "plt.scatter(listY3, listX3)\n",
        "\n",
        "#KUADRAN IV\n",
        "listX4 = []\n",
        "listY4 = []\n",
        "for Y in listY:\n",
        "    Y= 0-Y\n",
        "    listY4.append(Y)\n",
        "\n",
        "listX4 = listX\n",
        "\n",
        "print (listX4)\n",
        "print (listY4)\n",
        "plt.scatter(listX4, listY4)\n",
        "plt.scatter(listY4, listX4)\n",
        "\n",
        "plt.show()"
      ],
      "metadata": {
        "colab": {
          "base_uri": "https://localhost:8080/",
          "height": 369
        },
        "id": "MVWVArP0Zgsy",
        "outputId": "8bdb84f0-b8b8-4f15-9d7a-ecb7ddcddada"
      },
      "execution_count": 9,
      "outputs": [
        {
          "output_type": "stream",
          "name": "stdout",
          "text": [
            "[0, -1, -2, -3, -4, -5, -6, -7, -8, -9, -10, -11, -12, -13, -14]\n",
            "[20, 20, 20, 20, 20, 19, 19, 19, 18, 18, 17, 17, 16, 15, 14]\n",
            "[0, -1, -2, -3, -4, -5, -6, -7, -8, -9, -10, -11, -12, -13, -14]\n",
            "[-20, -20, -20, -20, -20, -19, -19, -19, -18, -18, -17, -17, -16, -15, -14]\n",
            "[0, 1, 2, 3, 4, 5, 6, 7, 8, 9, 10, 11, 12, 13, 14]\n",
            "[-20, -20, -20, -20, -20, -19, -19, -19, -18, -18, -17, -17, -16, -15, -14]\n"
          ]
        },
        {
          "output_type": "display_data",
          "data": {
            "text/plain": [
              "<Figure size 432x288 with 1 Axes>"
            ],
            "image/png": "[encoded data removed]"
          },
          "metadata": {
            "needs_background": "light"
          }
        }
      ]
    }
  ]
}